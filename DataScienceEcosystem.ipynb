{
  "nbformat": 4,
  "nbformat_minor": 0,
  "metadata": {
    "colab": {
      "provenance": []
    },
    "kernelspec": {
      "name": "python3",
      "display_name": "Python 3"
    },
    "language_info": {
      "name": "python"
    }
  },
  "cells": [
    {
      "cell_type": "markdown",
      "source": [
        "# Data Science Tools and Ecosystem:"
      ],
      "metadata": {
        "id": "9LCwik5MwtK7"
      }
    },
    {
      "cell_type": "markdown",
      "source": [
        "## In this notebook, Data Science Tools and Ecosystem are summarized.\n",
        "\n"
      ],
      "metadata": {
        "id": "JFtwgEjSyJHu"
      }
    },
    {
      "cell_type": "markdown",
      "source": [
        "## Some of the popular languages that Data Scientists use are:\n",
        "\n",
        "1. Python\n",
        "2. R\n",
        "3. SQL\n",
        "4. Julia\n",
        "5. SAS\n",
        "6. MATLAB\n"
      ],
      "metadata": {
        "id": "RF6LfOXpy4kR"
      }
    },
    {
      "cell_type": "markdown",
      "source": [
        "## Some of the popularly used libraries used by Data Scientists include:\n",
        "\n",
        "1. NumPy\n",
        "2. Pandas\n",
        "3. Matplotlib\n",
        "4. Seaborn\n",
        "5. Scikit-learn\n",
        "6. TensorFlow\n",
        "7. PyTorch\n",
        "8. Keras\n",
        "9. NLTK\n",
        "\n"
      ],
      "metadata": {
        "id": "T8d39CBjzO57"
      }
    },
    {
      "cell_type": "markdown",
      "source": [
        "| Data Science Tools |\n",
        "| --- |\n",
        "| Jupyter Notebook |\n",
        "| Spyder |\n",
        "| RStudio |\n"
      ],
      "metadata": {
        "id": "is33KJnNzuO4"
      }
    },
    {
      "cell_type": "markdown",
      "source": [
        "### Below are a few examples of evaluating arithmetic expressions in Python\n",
        "\n",
        "Arithmetic expressions in Python involve mathematical operations like addition, subtraction, multiplication, and division. Here are a few examples:\n",
        "\n",
        "```python\n",
        "# Addition\n",
        "2 + 2\n",
        "\n",
        "# Subtraction\n",
        "5 - 3\n",
        "\n",
        "# Multiplication\n",
        "4 * 6\n",
        "\n",
        "# Division\n",
        "8 / 2\n"
      ],
      "metadata": {
        "id": "tlp2n8M_0F_K"
      }
    },
    {
      "cell_type": "code",
      "source": [
        "# This is a simple arithmetic expression to multiply then add integers\n",
        "3 * 4 + 5\n"
      ],
      "metadata": {
        "colab": {
          "base_uri": "https://localhost:8080/"
        },
        "id": "UgpLd7Y8035O",
        "outputId": "61106007-a63b-47cf-fc10-00ff70c63517"
      },
      "execution_count": 1,
      "outputs": [
        {
          "output_type": "execute_result",
          "data": {
            "text/plain": [
              "17"
            ]
          },
          "metadata": {},
          "execution_count": 1
        }
      ]
    },
    {
      "cell_type": "code",
      "source": [
        "# This will convert 200 minutes to hours by dividing by 60\n",
        "200 / 60\n",
        "\n"
      ],
      "metadata": {
        "colab": {
          "base_uri": "https://localhost:8080/"
        },
        "id": "v3IVuciR05Lx",
        "outputId": "b975d2dd-c201-4256-db4b-3374ec246625"
      },
      "execution_count": 2,
      "outputs": [
        {
          "output_type": "execute_result",
          "data": {
            "text/plain": [
              "3.3333333333333335"
            ]
          },
          "metadata": {},
          "execution_count": 2
        }
      ]
    },
    {
      "cell_type": "markdown",
      "source": [
        "**Objectives:**\n",
        "\n",
        "- List popular languages for Data Science\n",
        "- Introduce common libraries used in Data Science\n",
        "- Create tables and code cells in Markdown\n",
        "- Evaluate arithmetic expressions in Python\n",
        "- Convert between different units of measurement\n"
      ],
      "metadata": {
        "id": "aFPpW2md1cS2"
      }
    },
    {
      "cell_type": "markdown",
      "source": [
        "### Authors Lakshmi Holla and Niveditha Pandith\n",
        "\n",
        "My name is Divyansh Binani"
      ],
      "metadata": {
        "id": "AwBu2Y0K1puX"
      }
    }
  ]
}